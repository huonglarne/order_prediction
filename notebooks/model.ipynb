{
 "cells": [
  {
   "cell_type": "code",
   "execution_count": 7,
   "id": "64ab0d11",
   "metadata": {},
   "outputs": [],
   "source": [
    "import pandas as pd\n",
    "import numpy as np\n",
    "from sklearn.metrics import mean_squared_log_error\n",
    "from sklearn.ensemble import RandomForestRegressor\n",
    "# from lightgbm import LGBMRegressor"
   ]
  },
  {
   "cell_type": "code",
   "execution_count": 2,
   "id": "39f7aa8b",
   "metadata": {},
   "outputs": [],
   "source": [
    "data = pd.read_csv('../data/sales_data.csv')"
   ]
  },
  {
   "cell_type": "markdown",
   "id": "f51832a0",
   "metadata": {},
   "source": [
    "# Feature engineering"
   ]
  },
  {
   "cell_type": "code",
   "execution_count": 36,
   "id": "0481db2d",
   "metadata": {},
   "outputs": [
    {
     "data": {
      "text/html": [
       "<div>\n",
       "<style scoped>\n",
       "    .dataframe tbody tr th:only-of-type {\n",
       "        vertical-align: middle;\n",
       "    }\n",
       "\n",
       "    .dataframe tbody tr th {\n",
       "        vertical-align: top;\n",
       "    }\n",
       "\n",
       "    .dataframe thead th {\n",
       "        text-align: right;\n",
       "    }\n",
       "</style>\n",
       "<table border=\"1\" class=\"dataframe\">\n",
       "  <thead>\n",
       "    <tr style=\"text-align: right;\">\n",
       "      <th></th>\n",
       "      <th>week</th>\n",
       "      <th>sales</th>\n",
       "      <th>last-1_week_sales</th>\n",
       "      <th>last-1_week_diff</th>\n",
       "      <th>last-2_week_sales</th>\n",
       "      <th>last-2_week_diff</th>\n",
       "    </tr>\n",
       "  </thead>\n",
       "  <tbody>\n",
       "    <tr>\n",
       "      <th>4830</th>\n",
       "      <td>5</td>\n",
       "      <td>16.0</td>\n",
       "      <td>7.0</td>\n",
       "      <td>-14.0</td>\n",
       "      <td>21.0</td>\n",
       "      <td>10.0</td>\n",
       "    </tr>\n",
       "    <tr>\n",
       "      <th>4831</th>\n",
       "      <td>5</td>\n",
       "      <td>25.0</td>\n",
       "      <td>4.0</td>\n",
       "      <td>-7.0</td>\n",
       "      <td>11.0</td>\n",
       "      <td>10.0</td>\n",
       "    </tr>\n",
       "    <tr>\n",
       "      <th>4832</th>\n",
       "      <td>5</td>\n",
       "      <td>72.0</td>\n",
       "      <td>124.0</td>\n",
       "      <td>89.0</td>\n",
       "      <td>35.0</td>\n",
       "      <td>12.0</td>\n",
       "    </tr>\n",
       "    <tr>\n",
       "      <th>4833</th>\n",
       "      <td>5</td>\n",
       "      <td>149.0</td>\n",
       "      <td>224.0</td>\n",
       "      <td>7.0</td>\n",
       "      <td>217.0</td>\n",
       "      <td>-35.0</td>\n",
       "    </tr>\n",
       "    <tr>\n",
       "      <th>4834</th>\n",
       "      <td>5</td>\n",
       "      <td>68.0</td>\n",
       "      <td>105.0</td>\n",
       "      <td>25.0</td>\n",
       "      <td>80.0</td>\n",
       "      <td>0.0</td>\n",
       "    </tr>\n",
       "    <tr>\n",
       "      <th>...</th>\n",
       "      <td>...</td>\n",
       "      <td>...</td>\n",
       "      <td>...</td>\n",
       "      <td>...</td>\n",
       "      <td>...</td>\n",
       "      <td>...</td>\n",
       "    </tr>\n",
       "    <tr>\n",
       "      <th>16417</th>\n",
       "      <td>16</td>\n",
       "      <td>0.0</td>\n",
       "      <td>0.0</td>\n",
       "      <td>0.0</td>\n",
       "      <td>0.0</td>\n",
       "      <td>0.0</td>\n",
       "    </tr>\n",
       "    <tr>\n",
       "      <th>16418</th>\n",
       "      <td>16</td>\n",
       "      <td>0.0</td>\n",
       "      <td>0.0</td>\n",
       "      <td>0.0</td>\n",
       "      <td>0.0</td>\n",
       "      <td>0.0</td>\n",
       "    </tr>\n",
       "    <tr>\n",
       "      <th>16419</th>\n",
       "      <td>16</td>\n",
       "      <td>0.0</td>\n",
       "      <td>0.0</td>\n",
       "      <td>-1.0</td>\n",
       "      <td>1.0</td>\n",
       "      <td>1.0</td>\n",
       "    </tr>\n",
       "    <tr>\n",
       "      <th>16420</th>\n",
       "      <td>16</td>\n",
       "      <td>0.0</td>\n",
       "      <td>0.0</td>\n",
       "      <td>0.0</td>\n",
       "      <td>0.0</td>\n",
       "      <td>0.0</td>\n",
       "    </tr>\n",
       "    <tr>\n",
       "      <th>16421</th>\n",
       "      <td>16</td>\n",
       "      <td>0.0</td>\n",
       "      <td>0.0</td>\n",
       "      <td>0.0</td>\n",
       "      <td>0.0</td>\n",
       "      <td>0.0</td>\n",
       "    </tr>\n",
       "  </tbody>\n",
       "</table>\n",
       "<p>11592 rows × 6 columns</p>\n",
       "</div>"
      ],
      "text/plain": [
       "       week  sales  last-1_week_sales  last-1_week_diff  last-2_week_sales  \\\n",
       "4830      5   16.0                7.0             -14.0               21.0   \n",
       "4831      5   25.0                4.0              -7.0               11.0   \n",
       "4832      5   72.0              124.0              89.0               35.0   \n",
       "4833      5  149.0              224.0               7.0              217.0   \n",
       "4834      5   68.0              105.0              25.0               80.0   \n",
       "...     ...    ...                ...               ...                ...   \n",
       "16417    16    0.0                0.0               0.0                0.0   \n",
       "16418    16    0.0                0.0               0.0                0.0   \n",
       "16419    16    0.0                0.0              -1.0                1.0   \n",
       "16420    16    0.0                0.0               0.0                0.0   \n",
       "16421    16    0.0                0.0               0.0                0.0   \n",
       "\n",
       "       last-2_week_diff  \n",
       "4830               10.0  \n",
       "4831               10.0  \n",
       "4832               12.0  \n",
       "4833              -35.0  \n",
       "4834                0.0  \n",
       "...                 ...  \n",
       "16417               0.0  \n",
       "16418               0.0  \n",
       "16419               1.0  \n",
       "16420               0.0  \n",
       "16421               0.0  \n",
       "\n",
       "[11592 rows x 6 columns]"
      ]
     },
     "execution_count": 36,
     "metadata": {},
     "output_type": "execute_result"
    }
   ],
   "source": [
    "features = data.copy()\n",
    "\n",
    "past_weeks = 2\n",
    "\n",
    "for i in range(past_weeks):\n",
    "    shift_num = i + 1\n",
    "\n",
    "    sale_column_name = f'last-{shift_num}_week_sales'\n",
    "    diff_column_name = f'last-{shift_num}_week_diff'\n",
    "    features[sale_column_name] = features.groupby(['product'])['sales'].shift(shift_num)\n",
    "    features[diff_column_name] = features.groupby(['product'])[sale_column_name].diff()\n",
    "    \n",
    "    features = features.dropna()\n",
    "\n",
    "features = features.drop(['product'], axis=1)\n",
    "features"
   ]
  },
  {
   "cell_type": "code",
   "execution_count": 37,
   "id": "d01be515",
   "metadata": {},
   "outputs": [],
   "source": [
    "start_week = int(features.min()['week']) + 1 # each week must have at least 1 week before it to predict\n",
    "end_week = int(features.max()['week'])\n",
    "num_weeks = end_week - start_week\n",
    "train_week_split = start_week + round(num_weeks * 0.8)"
   ]
  },
  {
   "cell_type": "code",
   "execution_count": 38,
   "id": "48e767f5",
   "metadata": {},
   "outputs": [],
   "source": [
    "def rmsle(ytrue, ypred):\n",
    "    return np.sqrt(mean_squared_log_error(ytrue, ypred))"
   ]
  },
  {
   "cell_type": "code",
   "execution_count": 39,
   "id": "0882e57f",
   "metadata": {},
   "outputs": [
    {
     "name": "stdout",
     "output_type": "stream",
     "text": [
      "Week 6 - Error 0.71732\n",
      "Week 7 - Error 0.68273\n",
      "Week 8 - Error 0.86026\n",
      "Week 9 - Error 0.86471\n",
      "Week 10 - Error 0.75597\n",
      "Week 11 - Error 0.78457\n",
      "Week 12 - Error 0.71751\n",
      "Week 13 - Error 0.69051\n",
      "Mean Error = 0.75920\n"
     ]
    }
   ],
   "source": [
    "mean_error = []\n",
    "for week in range(start_week, train_week_split):\n",
    "    train = features[features['week'] < week]\n",
    "    val = features[features['week'] == week]\n",
    "    \n",
    "    xtr, xts = train.drop(['sales', 'week'], axis=1), val.drop(['sales', 'week'], axis=1)\n",
    "    ytr, yts = train['sales'].values, val['sales'].values\n",
    "    \n",
    "    mdl = RandomForestRegressor(n_estimators=1000, n_jobs=-1, random_state=0)\n",
    "    mdl.fit(xtr, np.log1p(ytr))\n",
    "    \n",
    "    p = np.expm1(mdl.predict(xts))\n",
    "    \n",
    "    error = rmsle(yts, p)\n",
    "    print('Week %d - Error %.5f' % (week, error))\n",
    "    mean_error.append(error)\n",
    "print('Mean Error = %.5f' % np.mean(mean_error))"
   ]
  },
  {
   "cell_type": "code",
   "execution_count": 45,
   "id": "9b35c43e",
   "metadata": {},
   "outputs": [
    {
     "name": "stderr",
     "output_type": "stream",
     "text": [
      "/tmp/ipykernel_21710/2385410743.py:1: SettingWithCopyWarning: \n",
      "A value is trying to be set on a copy of a slice from a DataFrame.\n",
      "Try using .loc[row_indexer,col_indexer] = value instead\n",
      "\n",
      "See the caveats in the documentation: https://pandas.pydata.org/pandas-docs/stable/user_guide/indexing.html#returning-a-view-versus-a-copy\n",
      "  val.loc[:, 'pred'] = np.round(p)\n"
     ]
    },
    {
     "data": {
      "text/plain": [
       "<AxesSubplot: title={'center': 'Prediction vs Sales'}, xlabel='sales', ylabel='pred'>"
      ]
     },
     "execution_count": 45,
     "metadata": {},
     "output_type": "execute_result"
    },
    {
     "data": {
      "image/png": "[encoded data removed]",
      "text/plain": [
       "<Figure size 1500x1000 with 1 Axes>"
      ]
     },
     "metadata": {},
     "output_type": "display_data"
    }
   ],
   "source": [
    "val.loc[:, 'pred'] = np.round(p)\n",
    "val.plot.scatter(x='sales', y='pred', figsize=(15,10), title='Prediction vs Sales', \n",
    "                 ylim=(0,40), xlim=(0,40))"
   ]
  },
  {
   "cell_type": "code",
   "execution_count": null,
   "id": "05e7f720",
   "metadata": {},
   "outputs": [],
   "source": []
  }
 ],
 "metadata": {
  "kernelspec": {
   "display_name": "Python 3 (ipykernel)",
   "language": "python",
   "name": "python3"
  },
  "language_info": {
   "codemirror_mode": {
    "name": "ipython",
    "version": 3
   },
   "file_extension": ".py",
   "mimetype": "text/x-python",
   "name": "python",
   "nbconvert_exporter": "python",
   "pygments_lexer": "ipython3",
   "version": "3.9.15"
  }
 },
 "nbformat": 4,
 "nbformat_minor": 5
}
